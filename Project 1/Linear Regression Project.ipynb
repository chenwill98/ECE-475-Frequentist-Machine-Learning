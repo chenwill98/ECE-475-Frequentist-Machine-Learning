{
 "cells": [
  {
   "cell_type": "markdown",
   "metadata": {},
   "source": [
    "# Project 1: Three Flavors of Linear Regression\n",
    "## William Chen\n",
    "\n",
    "### This project involved implementing three types of linear regression: plain old linear regression, ridge, and lasso. The dataset I used for this compares normalized \"feels like\" temperature to the amount of total bike rentals in Porto, Portugal over a period of approximately 700 days."
   ]
  },
  {
   "cell_type": "code",
   "execution_count": 17,
   "metadata": {},
   "outputs": [],
   "source": [
    "import csv\n",
    "import matplotlib.pyplot as plt\n",
    "import numpy as np\n",
    "import pandas as pd\n",
    "from sklearn.utils import shuffle\n",
    "from sklearn import linear_model as lm\n",
    "\n",
    "#The dataset was shuffled beforehand because the dataset was previously arranged chronologically\n",
    "data = pd.read_csv('bikeshare_shuffled.csv')\n",
    "\n",
    "#3 features that were relevant to the label were selected for linear regression\n",
    "x_1 = data['atemp'].values\n",
    "x_2 = data['hum'].values\n",
    "x_3 = data['windspeed'].values\n",
    "y = data['cnt'].values\n",
    "N = len(y)\n",
    "\n",
    "#x is already normalized in the dataset, so we'll just normalize y\n",
    "for i in range(N):\n",
    "        y[i] = (y[i]-np.mean(y))/np.std(y)\n",
    "#Stacked the 3 separate columns together so as to be able to use it as 1 matrix \n",
    "x = np.column_stack((x_1, x_2, x_3))\n",
    "#We divide the dataset into 3 sets, training is ~80%, validation is 10%, and testing is the last 10%\n",
    "tr = int(round(N * 0.8))\n",
    "val = int(round(N * 0.9))\n",
    "x_tr = x[0:tr]\n",
    "y_tr = y[0:tr]\n",
    "x_val = x[tr:val]\n",
    "y_val = y[tr:val]\n",
    "x_test = x[val:N]\n",
    "y_test = y[val:N]"
   ]
  },
  {
   "cell_type": "markdown",
   "metadata": {},
   "source": [
    "## Part 1: Linear Regression"
   ]
  },
  {
   "cell_type": "code",
   "execution_count": 2,
   "metadata": {},
   "outputs": [
    {
     "name": "stdout",
     "output_type": "stream",
     "text": [
      "Mean Squared Error: 32.03610725509896\n"
     ]
    }
   ],
   "source": [
    "#First up is good ol' linear regression, and the model is trained using the training set\n",
    "x_matrix = np.matrix(x)\n",
    "u_x = x_matrix.mean(0)\n",
    "u_y = np.mean(y_tr)\n",
    "\n",
    "#The betas are calculated\n",
    "b_1 = np.linalg.inv(x_tr.T @ x_tr) @ (x_tr.T @ y_tr)\n",
    "b_0 = u_y - u_x @ b_1\n",
    "\n",
    "#Predicted Y's are obtained by applying the beta values to a set of test data\n",
    "y_hat = b_0 + x_test @ b_1\n",
    "\n",
    "#Skip the validation data set because there are no weights to validate the data against\n",
    "\n",
    "#The Mean Square Error is calculated\n",
    "mse = np.sum(np.square(y_hat - y_test)) / len(y_test)\n",
    "\n",
    "print(\"Mean Squared Error:\", mse)"
   ]
  },
  {
   "cell_type": "markdown",
   "metadata": {},
   "source": [
    "## Part 2: Ridge Regression "
   ]
  },
  {
   "cell_type": "code",
   "execution_count": 3,
   "metadata": {},
   "outputs": [
    {
     "name": "stdout",
     "output_type": "stream",
     "text": [
      "Most optimal lambda:  6.476476476476477\n",
      "Mean Squared Error: 31.838624821489454\n"
     ]
    }
   ],
   "source": [
    "#Now we conduct the same test but with the ridge regression. \n",
    "#The equation is similar, but with the inclusion of lambda as a weight\n",
    "\n",
    "def ridge(x, y, lamb):\n",
    "    lambdaI = lamb * np.eye(len(x.T))\n",
    "    b = np.linalg.inv(x.T @ x - lambdaI) @ (x.T @ y)\n",
    "    return b\n",
    "\n",
    "def calc_mse(x, y, b_ridge):\n",
    "    y_hat = x @ b_ridge\n",
    "    mse = np.sum(np.square(y_hat - y)) / len(y)\n",
    "    return mse\n",
    "    \n",
    "#First, find the minimum MSE based on a sample of lambdas and testing against the validation set, and the minimum MSE will determine the best lambda\n",
    "lamb = np.linspace(0, 10, num = 1000)\n",
    "mse = []\n",
    "\n",
    "for lam in lamb:\n",
    "    meansqerr = calc_mse(x_val, y_val, ridge(x_tr, y_tr, lam))\n",
    "    mse.append(meansqerr)\n",
    "\n",
    "mse_min = np.min(mse)\n",
    "\n",
    "for i in range(1000):\n",
    "    if (mse[i] == mse_min):\n",
    "        min_ind = i\n",
    "        \n",
    "#Once the optimal lambda is obtained, now we train the model again and then test against the test set\n",
    "mse = calc_mse(x_test, y_test, ridge(x_tr, y_tr, lamb[min_ind]))\n",
    "#As expected, the mean squared error for ridge regression is lower than that of plain ol' linear regression\n",
    "print(\"Most optimal lambda: \", lamb[min_ind])\n",
    "print(\"Mean Squared Error:\", mse)"
   ]
  },
  {
   "cell_type": "markdown",
   "metadata": {},
   "source": [
    "## Lasso Regression"
   ]
  },
  {
   "cell_type": "code",
   "execution_count": 14,
   "metadata": {},
   "outputs": [
    {
     "name": "stdout",
     "output_type": "stream",
     "text": [
      "Most optimal lambda:  0.0001\n",
      "Mean Squared Error: 32.01547550307946\n"
     ]
    }
   ],
   "source": [
    "#We finally perform the same test but with lasso regression, and select a lambda much like in ridge regression\n",
    "lamb = np.linspace(0.0001, 10, num = 1000)\n",
    "mse = []\n",
    "\n",
    "for lam in lamb:\n",
    "    lr = Lasso(alpha = lam)\n",
    "    lr.fit(x_tr, y_tr)\n",
    "    y_hat_lasso = lr.predict(x_val)\n",
    "    mse.append(np.sum((y_val - y_hat_lasso) ** 2) / len(x_val))\n",
    "\n",
    "mse_min = np.min(mse)\n",
    "for i in range(1000):\n",
    "    if (mse[i] == mse_min):\n",
    "        min_ind = i\n",
    "#It would appear that there's a trend of lower values of lambda resulting in a lower MSE\n",
    "lr = Lasso(alpha = lamb[min_ind])\n",
    "lr.fit(x_tr, y_tr)\n",
    "y_hat_lasso = lr.predict(x_test)\n",
    "mse = np.sum((y_test - y_hat_lasso) ** 2) / len(x_test)\n",
    "#This is reflected in the final test since the most optimal alpha is also the lowest in the range of lambas\n",
    "#This indicates that the lasso may not have been a good fit for the data\n",
    "#The mean squared error for Lasso regression is higher than linear regression but still lower than plain linear regression\n",
    "print(\"Most optimal lambda: \", lamb[min_ind])\n",
    "print(\"Mean Squared Error:\", mse)"
   ]
  },
  {
   "cell_type": "code",
   "execution_count": 34,
   "metadata": {},
   "outputs": [
    {
     "data": {
      "image/png": "[encoded data removed]",
      "text/plain": [
       "<Figure size 432x288 with 1 Axes>"
      ]
     },
     "metadata": {
      "needs_background": "light"
     },
     "output_type": "display_data"
    }
   ],
   "source": [
    "#This is just plotting the Lasso regression paths\n",
    "alphas, coeffs, _ = lm.lasso_path(x_tr, y_tr, eps=5e-5)\n",
    "alphas = np.log10(alphas)\n",
    "for co in coeffs:\n",
    "    ax = plt.plot(alphas, co.T)\n",
    "\n",
    "plt.title(\"Lasso Regression Paths\")\n",
    "plt.ylabel('Lasso Coefficients')\n",
    "plt.xlabel(\"Alphas\")\n",
    "plt.tight_layout()\n"
   ]
  },
  {
   "cell_type": "code",
   "execution_count": null,
   "metadata": {},
   "outputs": [],
   "source": []
  }
 ],
 "metadata": {
  "kernelspec": {
   "display_name": "Python 3",
   "language": "python",
   "name": "python3"
  },
  "language_info": {
   "codemirror_mode": {
    "name": "ipython",
    "version": 3
   },
   "file_extension": ".py",
   "mimetype": "text/x-python",
   "name": "python",
   "nbconvert_exporter": "python",
   "pygments_lexer": "ipython3",
   "version": "3.6.5"
  }
 },
 "nbformat": 4,
 "nbformat_minor": 2
}
